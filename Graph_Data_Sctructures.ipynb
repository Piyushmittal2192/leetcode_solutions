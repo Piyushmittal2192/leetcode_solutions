{
  "nbformat": 4,
  "nbformat_minor": 0,
  "metadata": {
    "colab": {
      "name": "Graph Data Sctructures.ipynb",
      "provenance": [],
      "collapsed_sections": [],
      "authorship_tag": "ABX9TyOLyhkVng2emKm22wqw9Ezm",
      "include_colab_link": true
    },
    "kernelspec": {
      "name": "python3",
      "display_name": "Python 3"
    },
    "language_info": {
      "name": "python"
    }
  },
  "cells": [
    {
      "cell_type": "markdown",
      "metadata": {
        "id": "view-in-github",
        "colab_type": "text"
      },
      "source": [
        "<a href=\"https://colab.research.google.com/github/Piyushmittal2192/leetcode_solutions/blob/main/Graph_Data_Sctructures.ipynb\" target=\"_parent\"><img src=\"https://colab.research.google.com/assets/colab-badge.svg\" alt=\"Open In Colab\"/></a>"
      ]
    },
    {
      "cell_type": "markdown",
      "source": [
        "### Graph\n",
        "  - has :\n",
        "    - vertices: where data is stored\n",
        "      - can be of any type ( numeric, string )\n",
        "    - edges: which connect two vertices\n"
      ],
      "metadata": {
        "id": "DL1TwR06qH9l"
      }
    },
    {
      "cell_type": "markdown",
      "source": [
        "  - properties:\n",
        "    - <b>connected/disconnected Graph</b>: graph is <b>connected</b> if there exists at least 1 path btw every pair of vertices otherwise its <b>disconnected</b> (disconnected graph can be combination of two or more connected graphs)  .\n",
        "    - <b>directed/undirected Graph</b>: in directeod graph each edge has a direction which determines the traversal order.\n",
        "      - undirected graph has no direction restriction, we can traverse in any direction\n",
        "    - <b>Weighted Graph</b>: a graph where each edge is associated with numerical weight. i.e. to travese from one vertice to another vertice there is a cost associated. e.g. find the least costly way to travel from destination A to destination B.\n",
        "    - <b>Cyclic Graph</b>: a directed graph containing atlest 1 graph cycle. A cyclic graph possessing exactly 1 ( undirected/simple) cycle is called unicylic)\n",
        "    - <b>Acyclic Graph (DAG)</b>: directed graph which is not cyclic.\n",
        "    - <b>Dense</b>: dense graph has number of edges close to maximum possible edges in graph\n",
        "    - <b>Sparse</b>: sparse graph has number of edges close to minimum possible edges in graph.\n",
        "    - <b>Simple</b>: a graph without loops and without multiple edges between edges btw two nodes\n",
        "    - <b>Complete</b>: undirected graph in which every pair of distinct vertices is conncted by unique edge. every complete graph is also a simple graph.\n",
        "    - <b> Strongly Connected</b>: directed graph in which we can traverse from one node to another for every pair of nodes in graph.\n",
        "\n",
        "\n"
      ],
      "metadata": {
        "id": "wGm-tyRErL0t"
      }
    },
    {
      "cell_type": "markdown",
      "source": [
        "  - terminologies:\n",
        "    - <b>Adjacency</b>:\n",
        "      - <b>Adjacenct vertices</b>: if there is an edge btw two vertices.\n",
        "      - <b>Adjacenct edges</b>: if there is common vertex btw two edges.\n",
        "    - <b>Degree</b>:\n",
        "      - <b> Undirected Graph</b>: # of vertices adjacent to vertex V.\n",
        "      - <b> Directed Graph</b>: Sum of in + out degree is even for a GRAPH.\n",
        "        - <b> In Degree</b>: # of incoming edges to vertex V.\n",
        "        - <b> Out Degree</b>: # of outgoing edges from vertex V.\n",
        "    - Path \n",
        "    - Cycle\n",
        "    - Walk\n"
      ],
      "metadata": {
        "id": "6_Xp3NAKw2JJ"
      }
    },
    {
      "cell_type": "code",
      "source": [
        ""
      ],
      "metadata": {
        "id": "km9BCOdVs1XB"
      },
      "execution_count": null,
      "outputs": []
    }
  ]
}